{
  "nbformat": 4,
  "nbformat_minor": 0,
  "metadata": {
    "colab": {
      "provenance": [],
      "authorship_tag": "ABX9TyNonMQjHkd04A1xYSphAMHe",
      "include_colab_link": true
    },
    "kernelspec": {
      "name": "python3",
      "display_name": "Python 3"
    },
    "language_info": {
      "name": "python"
    }
  },
  "cells": [
    {
      "cell_type": "markdown",
      "metadata": {
        "id": "view-in-github",
        "colab_type": "text"
      },
      "source": [
        "<a href=\"https://colab.research.google.com/github/2024githublnc/collleage/blob/main/bus11.ipynb\" target=\"_parent\"><img src=\"https://colab.research.google.com/assets/colab-badge.svg\" alt=\"Open In Colab\"/></a>"
      ]
    },
    {
      "cell_type": "code",
      "execution_count": 1,
      "metadata": {
        "colab": {
          "base_uri": "https://localhost:8080/"
        },
        "id": "w4AK7Ro5W-cI",
        "outputId": "341b113e-ead1-4eb2-9eb6-71a7971af8af"
      },
      "outputs": [
        {
          "output_type": "stream",
          "name": "stdout",
          "text": [
            "<?xml version=\"1.0\" encoding=\"UTF-8\" standalone=\"yes\"?><response><comMsgHeader/><msgHeader><queryTime>2024-03-15 22:45:47.289</queryTime><resultCode>0</resultCode><resultMessage>정상적으로 처리되었습니다.</resultMessage></msgHeader><msgBody><busLocationList><endBus>0</endBus><lowPlate>0</lowPlate><plateNo>경기74아3827</plateNo><plateType>3</plateType><remainSeatCnt>43</remainSeatCnt><routeId>236000050</routeId><stationId>222001401</stationId><stationSeq>103</stationSeq></busLocationList><busLocationList><endBus>0</endBus><lowPlate>0</lowPlate><plateNo>경기74아3843</plateNo><plateType>3</plateType><remainSeatCnt>41</remainSeatCnt><routeId>236000050</routeId><stationId>222000571</stationId><stationSeq>46</stationSeq></busLocationList><busLocationList><endBus>0</endBus><lowPlate>0</lowPlate><plateNo>경기74아3830</plateNo><plateType>3</plateType><remainSeatCnt>35</remainSeatCnt><routeId>236000050</routeId><stationId>277102675</stationId><stationSeq>67</stationSeq></busLocationList></msgBody></response>\n"
          ]
        }
      ],
      "source": [
        "import requests\n",
        "url='http://apis.data.go.kr/6410000/buslocationservice/getBusLocationList?serviceKey=90t8GoY0mLPxxx8h3gG4FVygmPx63V40giYARFiHPtNWUHdpcJfH88alHrRT5RT6%2B2kZkrtfdZnVrQXpkoKafA%3D%3D&routeId=236000050'\n",
        "#url='http://openapi.gbis.go.kr/ws/rest/buslocationservice?serviceKey=1234567890&routeId=241285012'\n",
        "r = requests.get(url)\n",
        "print(r.text)"
      ]
    },
    {
      "cell_type": "code",
      "source": [
        "from bs4 import BeautifulSoup\n",
        "\n",
        "soup = BeautifulSoup(r.text, features=\"xml\")"
      ],
      "metadata": {
        "id": "rr4i1GkIXTvX"
      },
      "execution_count": 2,
      "outputs": []
    },
    {
      "cell_type": "code",
      "source": [
        "soup.find_all('stationId')"
      ],
      "metadata": {
        "colab": {
          "base_uri": "https://localhost:8080/"
        },
        "id": "orqxgYqUXYlO",
        "outputId": "7ca38047-05f2-43af-9232-ef259b31affc"
      },
      "execution_count": 3,
      "outputs": [
        {
          "output_type": "execute_result",
          "data": {
            "text/plain": [
              "[<stationId>222001401</stationId>,\n",
              " <stationId>222000571</stationId>,\n",
              " <stationId>277102675</stationId>]"
            ]
          },
          "metadata": {},
          "execution_count": 3
        }
      ]
    },
    {
      "cell_type": "code",
      "source": [
        "print('학번=', 2462002, '이름=', '경가윤')"
      ],
      "metadata": {
        "colab": {
          "base_uri": "https://localhost:8080/"
        },
        "id": "iA9ZRA7dXcbL",
        "outputId": "26cc40b1-8d57-4873-81b0-dd67212e5f59"
      },
      "execution_count": 4,
      "outputs": [
        {
          "output_type": "stream",
          "name": "stdout",
          "text": [
            "학번= 2462002 이름= 경가윤\n"
          ]
        }
      ]
    }
  ]
}