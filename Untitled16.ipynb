{
  "nbformat": 4,
  "nbformat_minor": 0,
  "metadata": {
    "colab": {
      "provenance": [],
      "authorship_tag": "ABX9TyMwit1/EJmmxxUTPtJm/81P",
      "include_colab_link": true
    },
    "kernelspec": {
      "name": "python3",
      "display_name": "Python 3"
    },
    "language_info": {
      "name": "python"
    }
  },
  "cells": [
    {
      "cell_type": "markdown",
      "metadata": {
        "id": "view-in-github",
        "colab_type": "text"
      },
      "source": [
        "<a href=\"https://colab.research.google.com/github/2024githublnc/collleage/blob/main/Untitled16.ipynb\" target=\"_parent\"><img src=\"https://colab.research.google.com/assets/colab-badge.svg\" alt=\"Open In Colab\"/></a>"
      ]
    },
    {
      "cell_type": "code",
      "execution_count": 1,
      "metadata": {
        "colab": {
          "base_uri": "https://localhost:8080/"
        },
        "id": "MPcKocL2_ArN",
        "outputId": "bd676660-6e0c-431b-975d-a925949ef71e"
      },
      "outputs": [
        {
          "output_type": "stream",
          "name": "stdout",
          "text": [
            "Collecting paho-mqtt\n",
            "  Downloading paho_mqtt-2.0.0-py3-none-any.whl (66 kB)\n",
            "\u001b[2K     \u001b[90m━━━━━━━━━━━━━━━━━━━━━━━━━━━━━━━━━━━━━━━━\u001b[0m \u001b[32m66.9/66.9 kB\u001b[0m \u001b[31m1.0 MB/s\u001b[0m eta \u001b[36m0:00:00\u001b[0m\n",
            "\u001b[?25hInstalling collected packages: paho-mqtt\n",
            "Successfully installed paho-mqtt-2.0.0\n"
          ]
        }
      ],
      "source": [
        "!pip install paho-mqtt"
      ]
    },
    {
      "cell_type": "code",
      "source": [
        "import json\n",
        "import requests\n",
        "n=0\n",
        "\n",
        "def doit(topic, payload):\n",
        "  global n\n",
        "  print(topic, payload)\n",
        "  j=json.loads(payload)\n",
        "  #print(j['co2'])\n",
        "  #url='https://api.thingspeak.com/update?api_key=MBXHFKNOS3NTXOGA'\n",
        "  url='https://api.thingspeak.com/update?api_key=2YUFYMQP4I1HCVJC'\n",
        "  url +='&field1='+j['co2']\n",
        "  url +='&field2='+j['bme680'].split(',')[0]\n",
        "  if n>15:\n",
        "    r=requests.get(url)\n",
        "    print(url, r.text)\n",
        "    n=0\n",
        "  n+=1"
      ],
      "metadata": {
        "id": "Ee0r6cH__bpp"
      },
      "execution_count": 4,
      "outputs": []
    },
    {
      "cell_type": "code",
      "source": [
        "import paho.mqtt.client as mqtt\n",
        "\n",
        "def on_connect(client, userdata, flags, reason_code, properties):\n",
        "    print(f\"Connected with result code {reason_code}\")\n",
        "    client.subscribe(\"connectware/indoor/data/1501\")\n",
        "\n",
        "def on_message(client, userdata, msg):\n",
        "    doit(msg.topic, msg.payload.decode('utf8'))\n",
        "\n",
        "client = mqtt.Client(mqtt.CallbackAPIVersion.VERSION2)\n",
        "client.on_connect = on_connect\n",
        "client.on_message = on_message\n",
        "\n",
        "client.connect(\"damoa.io\", 1883, 60)\n",
        "client.loop_forever()"
      ],
      "metadata": {
        "colab": {
          "base_uri": "https://localhost:8080/"
        },
        "id": "I7i8o9nn_eZO",
        "outputId": "b43a8f40-c560-4c80-d1a3-cf76c0fa0388"
      },
      "execution_count": null,
      "outputs": [
        {
          "output_type": "stream",
          "name": "stdout",
          "text": [
            "Connected with result code Success\n",
            "connectware/indoor/data/1501 {\"dust\":\"12,12\",\"co2\":\"399\",\"bme680\":\"25.58,31.70,903897,100910,34.61\",\"time\":\"2024-04-04 21:05:42\", \"serial\":20398, \"ip\":\"203.255.190.49\"}\n",
            "connectware/indoor/data/1501 {\"dust\":\"13,14\",\"co2\":\"399\",\"bme680\":\"25.58,31.72,902684,100910,34.61\",\"time\":\"2024-04-04 21:05:43\", \"serial\":20399, \"ip\":\"203.255.190.49\"}\n",
            "connectware/indoor/data/1501 {\"dust\":\"13,14\",\"co2\":\"399\",\"bme680\":\"25.58,31.70,902684,100910,34.61\",\"time\":\"2024-04-04 21:05:44\", \"serial\":20400, \"ip\":\"203.255.190.49\"}\n",
            "connectware/indoor/data/1501 {\"dust\":\"14,15\",\"co2\":\"399\",\"bme680\":\"25.58,31.70,900870,100910,34.61\",\"time\":\"2024-04-04 21:05:45\", \"serial\":20401, \"ip\":\"203.255.190.49\"}\n",
            "connectware/indoor/data/1501 {\"dust\":\"15,15\",\"co2\":\"399\",\"bme680\":\"25.58,31.70,901474,100910,34.53\",\"time\":\"2024-04-04 21:05:46\", \"serial\":20402, \"ip\":\"203.255.190.49\"}\n",
            "connectware/indoor/data/1501 {\"dust\":\"15,15\",\"co2\":\"399\",\"bme680\":\"25.58,31.70,902684,100911,34.53\",\"time\":\"2024-04-04 21:05:47\", \"serial\":20403, \"ip\":\"203.255.190.49\"}\n",
            "connectware/indoor/data/1501 {\"dust\":\"15,15\",\"co2\":\"399\",\"bme680\":\"25.58,31.71,904505,100911,34.53\",\"time\":\"2024-04-04 21:05:48\", \"serial\":20404, \"ip\":\"203.255.190.49\"}\n",
            "connectware/indoor/data/1501 {\"dust\":\"15,15\",\"co2\":\"399\",\"bme680\":\"25.58,31.71,903897,100911,34.53\",\"time\":\"2024-04-04 21:05:49\", \"serial\":20405, \"ip\":\"203.255.190.49\"}\n",
            "connectware/indoor/data/1501 {\"dust\":\"16,16\",\"co2\":\"399\",\"bme680\":\"25.58,31.72,903290,100911,34.53\",\"time\":\"2024-04-04 21:05:50\", \"serial\":20406, \"ip\":\"203.255.190.49\"}\n",
            "connectware/indoor/data/1501 {\"dust\":\"16,16\",\"co2\":\"399\",\"bme680\":\"25.58,31.71,902684,100911,34.53\",\"time\":\"2024-04-04 21:05:51\", \"serial\":20407, \"ip\":\"203.255.190.49\"}\n",
            "connectware/indoor/data/1501 {\"dust\":\"16,16\",\"co2\":\"399\",\"bme680\":\"25.58,31.71,902079,100911,34.53\",\"time\":\"2024-04-04 21:05:52\", \"serial\":20408, \"ip\":\"203.255.190.49\"}\n",
            "connectware/indoor/data/1501 {\"dust\":\"16,16\",\"co2\":\"399\",\"bme680\":\"25.58,31.71,901474,100910,34.61\",\"time\":\"2024-04-04 21:05:53\", \"serial\":20409, \"ip\":\"203.255.190.49\"}\n",
            "connectware/indoor/data/1501 {\"dust\":\"16,16\",\"co2\":\"399\",\"bme680\":\"25.58,31.72,903290,100910,34.61\",\"time\":\"2024-04-04 21:05:54\", \"serial\":20410, \"ip\":\"203.255.190.49\"}\n",
            "connectware/indoor/data/1501 {\"dust\":\"15,15\",\"co2\":\"399\",\"bme680\":\"25.58,31.70,902684,100910,34.53\",\"time\":\"2024-04-04 21:05:55\", \"serial\":20411, \"ip\":\"203.255.190.49\"}\n",
            "connectware/indoor/data/1501 {\"dust\":\"15,15\",\"co2\":\"399\",\"bme680\":\"25.58,31.71,902684,100911,34.61\",\"time\":\"2024-04-04 21:05:56\", \"serial\":20412, \"ip\":\"203.255.190.49\"}\n",
            "connectware/indoor/data/1501 {\"dust\":\"16,16\",\"co2\":\"399\",\"bme680\":\"25.58,31.72,902684,100911,34.53\",\"time\":\"2024-04-04 21:05:57\", \"serial\":20413, \"ip\":\"203.255.190.49\"}\n",
            "connectware/indoor/data/1501 {\"dust\":\"16,16\",\"co2\":\"399\",\"bme680\":\"25.58,31.71,903290,100911,34.53\",\"time\":\"2024-04-04 21:05:58\", \"serial\":20414, \"ip\":\"203.255.190.49\"}\n",
            "https://api.thingspeak.com/update?api_key=2YUFYMQP4I1HCVJC&field1=399&field2=25.58 7\n",
            "connectware/indoor/data/1501 {\"dust\":\"16,16\",\"co2\":\"399\",\"bme680\":\"25.57,31.71,900267,100910,34.53\",\"time\":\"2024-04-04 21:05:59\", \"serial\":20415, \"ip\":\"203.255.190.49\"}\n",
            "connectware/indoor/data/1501 {\"dust\":\"15,15\",\"co2\":\"399\",\"bme680\":\"25.57,31.72,900870,100910,34.61\",\"time\":\"2024-04-04 21:06:00\", \"serial\":20416, \"ip\":\"203.255.190.49\"}\n",
            "connectware/indoor/data/1501 {\"dust\":\"15,15\",\"co2\":\"399\",\"bme680\":\"25.57,31.71,900870,100909,34.61\",\"time\":\"2024-04-04 21:06:01\", \"serial\":20417, \"ip\":\"203.255.190.49\"}\n",
            "connectware/indoor/data/1501 {\"dust\":\"14,14\",\"co2\":\"399\",\"bme680\":\"25.57,31.71,903897,100909,34.69\",\"time\":\"2024-04-04 21:06:02\", \"serial\":20418, \"ip\":\"203.255.190.49\"}\n",
            "connectware/indoor/data/1501 {\"dust\":\"14,14\",\"co2\":\"398\",\"bme680\":\"25.57,31.70,901474,100909,34.61\",\"time\":\"2024-04-04 21:06:03\", \"serial\":20419, \"ip\":\"203.255.190.49\"}\n",
            "connectware/indoor/data/1501 {\"dust\":\"14,14\",\"co2\":\"398\",\"bme680\":\"25.57,31.71,902684,100910,34.61\",\"time\":\"2024-04-04 21:06:04\", \"serial\":20420, \"ip\":\"203.255.190.49\"}\n",
            "connectware/indoor/data/1501 {\"dust\":\"14,14\",\"co2\":\"398\",\"bme680\":\"25.58,31.71,904505,100910,34.53\",\"time\":\"2024-04-04 21:06:05\", \"serial\":20421, \"ip\":\"203.255.190.49\"}\n",
            "connectware/indoor/data/1501 {\"dust\":\"14,14\",\"co2\":\"398\",\"bme680\":\"25.58,31.72,902079,100911,34.53\",\"time\":\"2024-04-04 21:06:06\", \"serial\":20422, \"ip\":\"203.255.190.49\"}\n",
            "connectware/indoor/data/1501 {\"dust\":\"14,14\",\"co2\":\"398\",\"bme680\":\"25.58,31.72,902079,100910,34.53\",\"time\":\"2024-04-04 21:06:07\", \"serial\":20423, \"ip\":\"203.255.190.49\"}\n",
            "connectware/indoor/data/1501 {\"dust\":\"14,14\",\"co2\":\"398\",\"bme680\":\"25.57,31.71,904505,100910,34.61\",\"time\":\"2024-04-04 21:06:08\", \"serial\":20424, \"ip\":\"203.255.190.49\"}\n",
            "connectware/indoor/data/1501 {\"dust\":\"13,14\",\"co2\":\"398\",\"bme680\":\"25.57,31.71,898463,100910,34.61\",\"time\":\"2024-04-04 21:06:09\", \"serial\":20425, \"ip\":\"203.255.190.49\"}\n",
            "connectware/indoor/data/1501 {\"dust\":\"12,12\",\"co2\":\"398\",\"bme680\":\"25.57,31.71,902684,100910,34.53\",\"time\":\"2024-04-04 21:06:10\", \"serial\":20426, \"ip\":\"203.255.190.49\"}\n",
            "connectware/indoor/data/1501 {\"dust\":\"12,12\",\"co2\":\"398\",\"bme680\":\"25.57,31.72,900267,100910,34.61\",\"time\":\"2024-04-04 21:06:11\", \"serial\":20427, \"ip\":\"203.255.190.49\"}\n",
            "connectware/indoor/data/1501 {\"dust\":\"11,12\",\"co2\":\"398\",\"bme680\":\"25.57,31.72,902684,100911,34.53\",\"time\":\"2024-04-04 21:06:12\", \"serial\":20428, \"ip\":\"203.255.190.49\"}\n",
            "connectware/indoor/data/1501 {\"dust\":\"11,12\",\"co2\":\"398\",\"bme680\":\"25.57,31.70,903290,100911,34.61\",\"time\":\"2024-04-04 21:06:13\", \"serial\":20429, \"ip\":\"203.255.190.49\"}\n",
            "connectware/indoor/data/1501 {\"dust\":\"10,11\",\"co2\":\"398\",\"bme680\":\"25.57,31.72,899665,100909,34.69\",\"time\":\"2024-04-04 21:06:14\", \"serial\":20430, \"ip\":\"203.255.190.49\"}\n",
            "https://api.thingspeak.com/update?api_key=2YUFYMQP4I1HCVJC&field1=398&field2=25.57 8\n",
            "connectware/indoor/data/1501 {\"dust\":\"10,11\",\"co2\":\"398\",\"bme680\":\"25.57,31.72,898463,100910,34.53\",\"time\":\"2024-04-04 21:06:15\", \"serial\":20431, \"ip\":\"203.255.190.49\"}\n",
            "connectware/indoor/data/1501 {\"dust\":\"10,10\",\"co2\":\"398\",\"bme680\":\"25.57,31.70,902079,100910,34.53\",\"time\":\"2024-04-04 21:06:16\", \"serial\":20432, \"ip\":\"203.255.190.49\"}\n",
            "connectware/indoor/data/1501 {\"dust\":\"10,11\",\"co2\":\"398\",\"bme680\":\"25.57,31.72,901474,100910,34.53\",\"time\":\"2024-04-04 21:06:17\", \"serial\":20433, \"ip\":\"203.255.190.49\"}\n",
            "connectware/indoor/data/1501 {\"dust\":\"10,11\",\"co2\":\"398\",\"bme680\":\"25.57,31.71,899665,100910,34.53\",\"time\":\"2024-04-04 21:06:18\", \"serial\":20434, \"ip\":\"203.255.190.49\"}\n",
            "connectware/indoor/data/1501 {\"dust\":\"10,11\",\"co2\":\"399\",\"bme680\":\"25.57,31.73,900870,100911,34.53\",\"time\":\"2024-04-04 21:06:19\", \"serial\":20435, \"ip\":\"203.255.190.49\"}\n",
            "connectware/indoor/data/1501 {\"dust\":\"10,11\",\"co2\":\"399\",\"bme680\":\"25.57,31.71,902079,100910,34.53\",\"time\":\"2024-04-04 21:06:20\", \"serial\":20436, \"ip\":\"203.255.190.49\"}\n",
            "connectware/indoor/data/1501 {\"dust\":\"8,9\",\"co2\":\"399\",\"bme680\":\"25.57,31.71,900267,100910,34.61\",\"time\":\"2024-04-04 21:06:21\", \"serial\":20437, \"ip\":\"203.255.190.49\"}\n",
            "connectware/indoor/data/1501 {\"dust\":\"8,9\",\"co2\":\"399\",\"bme680\":\"25.57,31.71,904505,100910,34.53\",\"time\":\"2024-04-04 21:06:22\", \"serial\":20438, \"ip\":\"203.255.190.49\"}\n",
            "connectware/indoor/data/1501 {\"dust\":\"8,9\",\"co2\":\"399\",\"bme680\":\"25.57,31.71,905114,100911,34.53\",\"time\":\"2024-04-04 21:06:23\", \"serial\":20439, \"ip\":\"203.255.190.49\"}\n",
            "connectware/indoor/data/1501 {\"dust\":\"7,8\",\"co2\":\"399\",\"bme680\":\"25.57,31.72,904505,100910,34.61\",\"time\":\"2024-04-04 21:06:24\", \"serial\":20440, \"ip\":\"203.255.190.49\"}\n",
            "connectware/indoor/data/1501 {\"dust\":\"7,8\",\"co2\":\"399\",\"bme680\":\"25.57,31.71,899665,100910,34.61\",\"time\":\"2024-04-04 21:06:25\", \"serial\":20441, \"ip\":\"203.255.190.49\"}\n",
            "connectware/indoor/data/1501 {\"dust\":\"10,10\",\"co2\":\"399\",\"bme680\":\"25.57,31.72,902079,100910,34.61\",\"time\":\"2024-04-04 21:06:26\", \"serial\":20442, \"ip\":\"203.255.190.49\"}\n",
            "connectware/indoor/data/1501 {\"dust\":\"9,9\",\"co2\":\"399\",\"bme680\":\"25.57,31.72,904505,100909,34.61\",\"time\":\"2024-04-04 21:06:27\", \"serial\":20443, \"ip\":\"203.255.190.49\"}\n",
            "connectware/indoor/data/1501 {\"dust\":\"9,9\",\"co2\":\"399\",\"bme680\":\"25.57,31.72,900870,100911,34.61\",\"time\":\"2024-04-04 21:06:28\", \"serial\":20444, \"ip\":\"203.255.190.49\"}\n",
            "connectware/indoor/data/1501 {\"dust\":\"10,10\",\"co2\":\"399\",\"bme680\":\"25.57,31.72,903290,100911,34.53\",\"time\":\"2024-04-04 21:06:29\", \"serial\":20445, \"ip\":\"203.255.190.49\"}\n",
            "connectware/indoor/data/1501 {\"dust\":\"9,10\",\"co2\":\"399\",\"bme680\":\"25.57,31.71,900267,100911,34.53\",\"time\":\"2024-04-04 21:06:30\", \"serial\":20446, \"ip\":\"203.255.190.49\"}\n",
            "https://api.thingspeak.com/update?api_key=2YUFYMQP4I1HCVJC&field1=399&field2=25.57 9\n",
            "connectware/indoor/data/1501 {\"dust\":\"10,11\",\"co2\":\"399\",\"bme680\":\"25.57,31.72,902684,100911,34.53\",\"time\":\"2024-04-04 21:06:31\", \"serial\":20447, \"ip\":\"203.255.190.49\"}\n",
            "connectware/indoor/data/1501 {\"dust\":\"12,12\",\"co2\":\"399\",\"bme680\":\"25.57,31.70,903290,100910,34.53\",\"time\":\"2024-04-04 21:06:32\", \"serial\":20448, \"ip\":\"203.255.190.49\"}\n"
          ]
        }
      ]
    }
  ]
}