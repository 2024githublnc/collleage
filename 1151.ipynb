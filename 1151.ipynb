{
  "nbformat": 4,
  "nbformat_minor": 0,
  "metadata": {
    "colab": {
      "provenance": [],
      "authorship_tag": "ABX9TyP8Netkk57V0xKeDocZ4OLd",
      "include_colab_link": true
    },
    "kernelspec": {
      "name": "python3",
      "display_name": "Python 3"
    },
    "language_info": {
      "name": "python"
    }
  },
  "cells": [
    {
      "cell_type": "markdown",
      "metadata": {
        "id": "view-in-github",
        "colab_type": "text"
      },
      "source": [
        "<a href=\"https://colab.research.google.com/github/2024githublnc/collleage/blob/main/1151.ipynb\" target=\"_parent\"><img src=\"https://colab.research.google.com/assets/colab-badge.svg\" alt=\"Open In Colab\"/></a>"
      ]
    },
    {
      "cell_type": "code",
      "execution_count": 3,
      "metadata": {
        "colab": {
          "base_uri": "https://localhost:8080/"
        },
        "id": "w4AK7Ro5W-cI",
        "outputId": "0e25774f-a2c9-4ebd-e59c-1cb2d86114b5"
      },
      "outputs": [
        {
          "output_type": "stream",
          "name": "stdout",
          "text": [
            "<?xml version=\"1.0\" encoding=\"UTF-8\"?>\n",
            "<SeoulAdminMesure>\n",
            "<list_total_count>281518</list_total_count>\n",
            "<RESULT>\n",
            "<CODE>INFO-000</CODE>\n",
            "<MESSAGE>정상 처리되었습니다</MESSAGE>\n",
            "</RESULT>\n",
            "<row>\n",
            "<CGG_CODE>3000000</CGG_CODE>\n",
            "<ADM_DISPO_YMD>20071128</ADM_DISPO_YMD>\n",
            "<GNT_NO>0090</GNT_NO>\n",
            "<SNT_COB_NM>숙박업(일반)</SNT_COB_NM>\n",
            "<SNT_UPTAE_NM>여관업</SNT_UPTAE_NM>\n",
            "<UPSO_NM>향진</UPSO_NM>\n",
            "<SITE_ADDR_RD>서울특별시 종로구 창신길 28-7, (창신동)</SITE_ADDR_RD>\n",
            "<SITE_ADDR>서울특별시 종로구 창신동  581번지 8호  </SITE_ADDR>\n",
            "<DRT_INSP_YMD>20070728</DRT_INSP_YMD>\n",
            "<ADMM_STATE>처분확정</ADMM_STATE>\n",
            "<DISPO_CTN>과징금부과 1,800,000</DISPO_CTN>\n",
            "<BAS_LAW>공중위생관리법</BAS_LAW>\n",
            "<VIOR_YMD>20070728</VIOR_YMD>\n",
            "<VIOL_CN>청소년 이성혼숙 장소제공</VIOL_CN>\n",
            "<DISPO_CTN_DT>과징금부과 1,800,000</DISPO_CTN_DT>\n",
            "<DISPO_GIGAN/>\n",
            "<TRDP_AREA>82.64</TRDP_AREA>\n",
            "</row>\n",
            "<row>\n",
            "<CGG_CODE>3000000</CGG_CODE>\n",
            "<ADM_DISPO_YMD>20071228</ADM_DISPO_YMD>\n",
            "<GNT_NO>0091</GNT_NO>\n",
            "<SNT_COB_NM>숙박업(일반)</SNT_COB_NM>\n",
            "<SNT_UPTAE_NM>여관업</SNT_UPTAE_NM>\n",
            "<UPSO_NM>영모텔</UPSO_NM>\n",
            "<SITE_ADDR_RD>서울특별시 종로구 보문로7길 5-1, (숭인동)</SITE_ADDR_RD>\n",
            "<SITE_ADDR>서울특별시 종로구 숭인동  339번지  </SITE_ADDR>\n",
            "<DRT_INSP_YMD>20070927</DRT_INSP_YMD>\n",
            "<ADMM_STATE>처분확정</ADMM_STATE>\n",
            "<DISPO_CTN>경고</DISPO_CTN>\n",
            "<BAS_LAW>공중위생관리법</BAS_LAW>\n",
            "<VIOR_YMD>20051219</VIOR_YMD>\n",
            "<VIOL_CN>2005년도 위생교육 미이수</VIOL_CN>\n",
            "<DISPO_CTN_DT>경고</DISPO_CTN_DT>\n",
            "<DISPO_GIGAN/>\n",
            "<TRDP_AREA>141.95</TRDP_AREA>\n",
            "</row>\n",
            "<row>\n",
            "<CGG_CODE>3000000</CGG_CODE>\n",
            "<ADM_DISPO_YMD>20190809</ADM_DISPO_YMD>\n",
            "<GNT_NO>0091</GNT_NO>\n",
            "<SNT_COB_NM>숙박업(일반)</SNT_COB_NM>\n",
            "<SNT_UPTAE_NM>여관업</SNT_UPTAE_NM>\n",
            "<UPSO_NM>영모텔</UPSO_NM>\n",
            "<SITE_ADDR_RD>서울특별시 종로구 보문로7길 5-1, (숭인동)</SITE_ADDR_RD>\n",
            "<SITE_ADDR>서울특별시 종로구 숭인동  339번지  </SITE_ADDR>\n",
            "<DRT_INSP_YMD>20181106</DRT_INSP_YMD>\n",
            "<ADMM_STATE>처분확정</ADMM_STATE>\n",
            "<DISPO_CTN>영업정지 3월</DISPO_CTN>\n",
            "<BAS_LAW>법 제11조제1항</BAS_LAW>\n",
            "<VIOR_YMD>20181106</VIOR_YMD>\n",
            "<VIOL_CN>성매매알선 등 행위의 처벌에 관한 법률 위반</VIOL_CN>\n",
            "<DISPO_CTN_DT>영업정지 3월</DISPO_CTN_DT>\n",
            "<DISPO_GIGAN/>\n",
            "<TRDP_AREA>141.95</TRDP_AREA>\n",
            "</row>\n",
            "<row>\n",
            "<CGG_CODE>3000000</CGG_CODE>\n",
            "<ADM_DISPO_YMD>20131216</ADM_DISPO_YMD>\n",
            "<GNT_NO>0092</GNT_NO>\n",
            "<SNT_COB_NM>숙박업(일반)</SNT_COB_NM>\n",
            "<SNT_UPTAE_NM>일반호텔</SNT_UPTAE_NM>\n",
            "<UPSO_NM>호텔더디자이너스 종로</UPSO_NM>\n",
            "<SITE_ADDR_RD>서울특별시 종로구 수표로 89-8, (관수동)</SITE_ADDR_RD>\n",
            "<SITE_ADDR>서울특별시 종로구 관수동  14번지 1호  </SITE_ADDR>\n",
            "<DRT_INSP_YMD>20131125</DRT_INSP_YMD>\n",
            "<ADMM_STATE>처분확정</ADMM_STATE>\n",
            "<DISPO_CTN>경고 및 과태료부과</DISPO_CTN>\n",
            "<BAS_LAW>공중위생관리법 제17조 위반</BAS_LAW>\n",
            "<VIOR_YMD>20131125</VIOR_YMD>\n",
            "<VIOL_CN>2012년 위생교육 미이수</VIOL_CN>\n",
            "<DISPO_CTN_DT>경고 및 과태료부과</DISPO_CTN_DT>\n",
            "<DISPO_GIGAN/>\n",
            "<TRDP_AREA>999.86</TRDP_AREA>\n",
            "</row>\n",
            "<row>\n",
            "<CGG_CODE>3000000</CGG_CODE>\n",
            "<ADM_DISPO_YMD>20170609</ADM_DISPO_YMD>\n",
            "<GNT_NO>0097</GNT_NO>\n",
            "<SNT_COB_NM>숙박업(일반)</SNT_COB_NM>\n",
            "<SNT_UPTAE_NM>여관업</SNT_UPTAE_NM>\n",
            "<UPSO_NM>대호</UPSO_NM>\n",
            "<SITE_ADDR_RD>서울특별시 종로구 성균관로1길 6-2, (명륜3가)</SITE_ADDR_RD>\n",
            "<SITE_ADDR>서울특별시 종로구 명륜3가  149번지  </SITE_ADDR>\n",
            "<DRT_INSP_YMD>20170512</DRT_INSP_YMD>\n",
            "<ADMM_STATE>처분확정</ADMM_STATE>\n",
            "<DISPO_CTN>과징금부과</DISPO_CTN>\n",
            "<BAS_LAW>법 제11조제1항</BAS_LAW>\n",
            "<VIOR_YMD>20170512</VIOR_YMD>\n",
            "<VIOL_CN>청소년 이성혼숙 장소제공</VIOL_CN>\n",
            "<DISPO_CTN_DT>과징금부과</DISPO_CTN_DT>\n",
            "<DISPO_GIGAN/>\n",
            "<TRDP_AREA>317.85</TRDP_AREA>\n",
            "</row>\n",
            "</SeoulAdminMesure>\n",
            "\n"
          ]
        }
      ],
      "source": [
        "import requests\n",
        "url='http://openapi.seoul.go.kr:8088/sample/xml/SeoulAdminMesure/1/5/'\n",
        "r = requests.get(url)\n",
        "print(r.text)"
      ]
    },
    {
      "cell_type": "code",
      "source": [
        "from bs4 import BeautifulSoup\n",
        "\n",
        "soup = BeautifulSoup(r.text, features=\"xml\")"
      ],
      "metadata": {
        "id": "rr4i1GkIXTvX"
      },
      "execution_count": 4,
      "outputs": []
    },
    {
      "cell_type": "code",
      "source": [
        "soup.find_all('SITE_ADDR_RD')"
      ],
      "metadata": {
        "colab": {
          "base_uri": "https://localhost:8080/"
        },
        "id": "orqxgYqUXYlO",
        "outputId": "1d10be48-158d-45fd-a76b-fa1de1294664"
      },
      "execution_count": 5,
      "outputs": [
        {
          "output_type": "execute_result",
          "data": {
            "text/plain": [
              "[<SITE_ADDR_RD>서울특별시 종로구 창신길 28-7, (창신동)</SITE_ADDR_RD>,\n",
              " <SITE_ADDR_RD>서울특별시 종로구 보문로7길 5-1, (숭인동)</SITE_ADDR_RD>,\n",
              " <SITE_ADDR_RD>서울특별시 종로구 보문로7길 5-1, (숭인동)</SITE_ADDR_RD>,\n",
              " <SITE_ADDR_RD>서울특별시 종로구 수표로 89-8, (관수동)</SITE_ADDR_RD>,\n",
              " <SITE_ADDR_RD>서울특별시 종로구 성균관로1길 6-2, (명륜3가)</SITE_ADDR_RD>]"
            ]
          },
          "metadata": {},
          "execution_count": 5
        }
      ]
    },
    {
      "cell_type": "code",
      "source": [
        "print('학번=', 2462002, '이름=', '경가윤')"
      ],
      "metadata": {
        "colab": {
          "base_uri": "https://localhost:8080/"
        },
        "id": "iA9ZRA7dXcbL",
        "outputId": "1ecf3a0d-cda0-4dd9-ef34-7aa18848633a"
      },
      "execution_count": 6,
      "outputs": [
        {
          "output_type": "stream",
          "name": "stdout",
          "text": [
            "학번= 2462002 이름= 경가윤\n"
          ]
        }
      ]
    }
  ]
}